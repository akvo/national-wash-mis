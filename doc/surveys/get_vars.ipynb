{
 "cells": [
  {
   "cell_type": "code",
   "execution_count": 1,
   "metadata": {
    "ExecuteTime": {
     "end_time": "2022-05-25T05:26:55.693079Z",
     "start_time": "2022-05-25T05:26:55.032717Z"
    }
   },
   "outputs": [],
   "source": [
    "import pandas as pd\n",
    "import json\n",
    "import glob\n",
    "\n",
    "files = glob.glob(\"./*.json\")\n",
    "all_data = []\n",
    "for f in files:\n",
    "    with open(f,'r') as data:\n",
    "        form_id = f.split(\"-\")[-1].split(\".\")[0]\n",
    "        data = json.load(data)\n",
    "        questions = data.get(\"questions\")\n",
    "        data = data.get(\"questionOptions\")\n",
    "        for d in data:\n",
    "            question = list(filter(lambda x: x[\"keyId\"] == d[\"questionId\"], questions))[0]\n",
    "            d.update({\"form_id\": form_id, \"variable\": question.get(\"variableName\")})\n",
    "            all_data.append(d)\n",
    "data = pd.DataFrame(all_data)\n",
    "#data = data[data['code'] == data['code']]\n",
    "#data = data[['form_id','questionId','variable','text','code']]\n",
    "#data = \n",
    "#data.groupby(['form_id','questionId','variable','text','code']).first().to_excel(\"option_list.xlsx\")"
   ]
  },
  {
   "cell_type": "code",
   "execution_count": 2,
   "metadata": {
    "ExecuteTime": {
     "end_time": "2022-05-25T05:26:55.781342Z",
     "start_time": "2022-05-25T05:26:55.695912Z"
    }
   },
   "outputs": [
    {
     "data": {
      "text/html": [
       "<div>\n",
       "<style scoped>\n",
       "    .dataframe tbody tr th:only-of-type {\n",
       "        vertical-align: middle;\n",
       "    }\n",
       "\n",
       "    .dataframe tbody tr th {\n",
       "        vertical-align: top;\n",
       "    }\n",
       "\n",
       "    .dataframe thead th {\n",
       "        text-align: right;\n",
       "    }\n",
       "</style>\n",
       "<table border=\"1\" class=\"dataframe\">\n",
       "  <thead>\n",
       "    <tr style=\"text-align: right;\">\n",
       "      <th></th>\n",
       "      <th></th>\n",
       "      <th></th>\n",
       "      <th></th>\n",
       "      <th></th>\n",
       "    </tr>\n",
       "    <tr>\n",
       "      <th>form_id</th>\n",
       "      <th>questionId</th>\n",
       "      <th>variable</th>\n",
       "      <th>text</th>\n",
       "      <th>code</th>\n",
       "    </tr>\n",
       "  </thead>\n",
       "  <tbody>\n",
       "    <tr>\n",
       "      <th rowspan=\"5\" valign=\"top\">519630048</th>\n",
       "      <th rowspan=\"3\" valign=\"top\">444670051</th>\n",
       "      <th rowspan=\"3\" valign=\"top\">HS_toielet_nr_use</th>\n",
       "      <th>Own toilet only shared by members of the household</th>\n",
       "      <th>HS-1</th>\n",
       "    </tr>\n",
       "    <tr>\n",
       "      <th>Own toilet shared with 10-15 people (or less) including other households</th>\n",
       "      <th>HS-2</th>\n",
       "    </tr>\n",
       "    <tr>\n",
       "      <th>Own toilet shared with more than 15 people including other households</th>\n",
       "      <th>HS-3</th>\n",
       "    </tr>\n",
       "    <tr>\n",
       "      <th rowspan=\"2\" valign=\"top\">466680043</th>\n",
       "      <th rowspan=\"2\" valign=\"top\">HH-handwashing_facility</th>\n",
       "      <th>Fixed facility observed (sink/tap)  In yard/plot</th>\n",
       "      <th>HH-2</th>\n",
       "    </tr>\n",
       "    <tr>\n",
       "      <th>Fixed facility observed (sink/tap) In dwelling</th>\n",
       "      <th>HH-1</th>\n",
       "    </tr>\n",
       "    <tr>\n",
       "      <th>...</th>\n",
       "      <th>...</th>\n",
       "      <th>...</th>\n",
       "      <th>...</th>\n",
       "      <th>...</th>\n",
       "    </tr>\n",
       "    <tr>\n",
       "      <th rowspan=\"5\" valign=\"top\">563350033</th>\n",
       "      <th>545530057</th>\n",
       "      <th>hch_cleaning_protocols</th>\n",
       "      <th>Yes</th>\n",
       "      <th>SEC-1</th>\n",
       "    </tr>\n",
       "    <tr>\n",
       "      <th rowspan=\"4\" valign=\"top\">575740004</th>\n",
       "      <th rowspan=\"4\" valign=\"top\">hch_cleaningstaff_trained</th>\n",
       "      <th>No, none have been trained</th>\n",
       "      <th>SEC-3</th>\n",
       "    </tr>\n",
       "    <tr>\n",
       "      <th>No, some but not all have been trained</th>\n",
       "      <th>SEC-2</th>\n",
       "    </tr>\n",
       "    <tr>\n",
       "      <th>No, there are no staff responsible for cleaning</th>\n",
       "      <th>SEC-4</th>\n",
       "    </tr>\n",
       "    <tr>\n",
       "      <th>Yes, all have been trained</th>\n",
       "      <th>SEC-1</th>\n",
       "    </tr>\n",
       "  </tbody>\n",
       "</table>\n",
       "<p>142 rows × 0 columns</p>\n",
       "</div>"
      ],
      "text/plain": [
       "Empty DataFrame\n",
       "Columns: []\n",
       "Index: [(519630048, 444670051, HS_toielet_nr_use, Own toilet only shared by members of the household, HS-1), (519630048, 444670051, HS_toielet_nr_use, Own toilet shared with 10-15 people (or less) including other households, HS-2), (519630048, 444670051, HS_toielet_nr_use, Own toilet shared with more than 15 people including other households, HS-3), (519630048, 466680043, HH-handwashing_facility, Fixed facility observed (sink/tap)  In yard/plot, HH-2), (519630048, 466680043, HH-handwashing_facility, Fixed facility observed (sink/tap) In dwelling, HH-1), (519630048, 466680043, HH-handwashing_facility, Mobile object observed (bucket/jug/kettle), HH-3), (519630048, 466680043, HH-handwashing_facility, No handwashing place in dwelling/yard/plot, HH-4), (519630048, 466680043, HH-handwashing_facility, No permission to see, HH-5), (519630048, 466680045, HH_water_available, Water is available, HH-1), (519630048, 466680045, HH_water_available, Water is not available, HH-2), (519630048, 466760036, hh_soap_available, Soap or detergent available ., HH-1), (519630048, 466760036, hh_soap_available, Soap or detergent not available, HH-2), (519630048, 492490054, HS_toilet_type, Bucket, HS-6), (519630048, 492490054, HS_toilet_type, Container based sanitation, HS-7), (519630048, 492490054, HS_toilet_type, Flush / pour flush, HS-1), (519630048, 492490054, HS_toilet_type, Hanging toilet / hanging latrine, HS-8), (519630048, 492490054, HS_toilet_type, No facility / Bush / Field, HS-9), (519630048, 492490054, HS_toilet_type, Pit latrine with slab, HS-2), (519630048, 492490054, HS_toilet_type, Pit latrine without slab / Open pit, HS-3), (519630048, 492490054, HS_toilet_type, Twin pit with slab, HS-4), (519630048, 492490054, HS_toilet_type, Twin pit without slab, HS-5), (519630048, 496550059, HS_toilet_use, No, HS-2), (519630048, 496550059, HS_toilet_use, Yes, HS-1), (519630048, 512010045, HS_feaces_present, No, HS2), (519630048, 512010045, HS_feaces_present, Yes, HS-1), (519630048, 513690059, HS_toilet_emptied, No, HS-2), (519630048, 513690059, HS_toilet_emptied, Yes, HS-1), (519630048, 513690060, HS_emptied_location, Don't know, HS-6), (519630048, 513690060, HS_emptied_location, Emptied by household buried in a covered pit, HS-4), (519630048, 513690060, HS_emptied_location, Emptied by household to uncovered pit, open ground, water body or elsewhere, HS-5), (519630048, 513690060, HS_emptied_location, Removed by service provider to a treatment plant, HS-1), (519630048, 513690060, HS_emptied_location, Removed by service provider to buried pit, HS-2), (519630048, 513690060, HS_emptied_location, Removed by service provider to don't know where, HS-3), (519630048, 513690061, HS_Childfeaces_disposal, Buried, HS-5), (519630048, 513690061, HS_Childfeaces_disposal, Child used toilet/latrine, HS-1), (519630048, 513690061, HS_Childfeaces_disposal, Don't know, HS-9), (519630048, 513690061, HS_Childfeaces_disposal, Left in the open, HS-6), (519630048, 513690061, HS_Childfeaces_disposal, No kids present, HS-8), (519630048, 513690061, HS_Childfeaces_disposal, Put/rinsed into drain or ditch, HS-3), (519630048, 513690061, HS_Childfeaces_disposal, Put/rinsed into toilet or latrine, HS-2), (519630048, 513690061, HS_Childfeaces_disposal, Thrown into garbage (solid waste), HS-4), (519630048, 513690061, HS_Childfeaces_disposal, Used as manure, HS-7), (519630048, 513690062, HS_toilet_share, No, HS-2), (519630048, 513690062, HS_toilet_share, Yes, HS-1), (519630048, 513690063, HS_toiletphoto, No, HS-2), (519630048, 513690063, HS_toiletphoto, Yes, HS-1), (519630048, 513690065, HS_toilet_location, Elsewhere, HS-3), (519630048, 513690065, HS_toilet_location, In own dwelling, HS-1), (519630048, 513690065, HS_toilet_location, In own yard/plot, HS-2), (519630048, 513690066, HS_toilet_leak, Don’t know, HS-4), (519630048, 513690066, HS_toilet_leak, No, never, HS-1), (519630048, 513690066, HS_toilet_leak, Yes, frequently, HS-3), (519630048, 513690066, HS_toilet_leak, Yes, sometimes, HS-2), (519630048, 513690067, HS_notuse_reason, Distance/barriers prevent members from reaching the toilet, HS-2), (519630048, 513690067, HS_notuse_reason, Limited mobility prevents members from using the toilet, HS-1), (519630048, 513690067, HS_notuse_reason, Toilet is not always available to all household members, HS-3), (519630048, 513690067, HS_notuse_reason, Toilet is not always safe for all household members to use, HS-4), (519630048, 513690068, HS_availability_toilet, Functional toilet with privacy, HS-4), (519630048, 513690068, HS_availability_toilet, No toilet observed, HS-1), (519630048, 513690068, HS_availability_toilet, Toilet not functional (Collapsed, full, abandoned), HS-3), (519630048, 513690068, HS_availability_toilet, Toilet with inadequate privacy, HS-2), (519630048, 524810053, MHM_activties, Attending school, HMHM-1), (519630048, 524810053, MHM_activties, Bathing in regular place, HMHM-7), (519630048, 524810053, MHM_activties, Cooking food, HMHM-5), (519630048, 524810053, MHM_activties, Cooking food?, HMHM-4), (519630048, 524810053, MHM_activties, Eating with others, HMHM-6), (519630048, 524810053, MHM_activties, Paid work, HMHM-2), (519630048, 524810053, MHM_activties, Participating in social activities, HMHM-3), (519630048, 524810054, MHM_privacy, No, HMHM-2), (519630048, 524810054, MHM_privacy, Yes, HMHM-1), (53356002, 530250002, hcs_toilets_useable, No, HC-2), (53356002, 530250002, hcs_toilets_useable, Yes, HC-1), (53356002, 541950005, hcw_disposal_sgarpwaste, Autoclaved, HC-1), (53356002, 541950005, hcw_disposal_sgarpwaste, Burning in a protected pit, HC-4), (53356002, 541950005, hcw_disposal_sgarpwaste, Incinerated (other), HC-3), (53356002, 541950005, hcw_disposal_sgarpwaste, Incinerated (two chamber, 850-1000 °C incinerator), HC-2), (53356002, 541950005, hcw_disposal_sgarpwaste, Not treated and added to general waste, HC-9), (53356002, 541950005, hcw_disposal_sgarpwaste, Not treated, but buried in lined, protected pit, HC-5), (53356002, 541950005, hcw_disposal_sgarpwaste, Not treated, but collected for medical waste disposal off-site, HC-6), (53356002, 541950005, hcw_disposal_sgarpwaste, Open burning, HC-8), (53356002, 541950005, hcw_disposal_sgarpwaste, Open dumping without treatment, HC-7), (53356002, 541950008, hcw_segregation, No, bins are not present, HC-3), (53356002, 541950008, hcw_segregation, No, bins are present but do not meet all requirements or waste is not correctly segregated, HC-2), (53356002, 541950008, hcw_segregation, Yes, waste is segregated into three labelled bins, HC-1), (53356002, 541950010, hcw_hcwm_training, No, HC-2), (53356002, 541950010, hcw_hcwm_training, Yes, HC-1), (53356002, 541950011, hcw_disposal_infectiouswaste, Autoclaved, HC-1), (53356002, 541950011, hcw_disposal_infectiouswaste, Burning in a protected pit, HC-4), (53356002, 541950011, hcw_disposal_infectiouswaste, Incinerated (other), HC-3), (53356002, 541950011, hcw_disposal_infectiouswaste, Incinerated (two chamber, 850-1000 °C incinerator), HC-2), (53356002, 541950011, hcw_disposal_infectiouswaste, Not treated and added to general waste, HC-9), (53356002, 541950011, hcw_disposal_infectiouswaste, Not treated, but buried in lined, protected pit, HC-5), (53356002, 541950011, hcw_disposal_infectiouswaste, Not treated, but collected for medical waste disposal off-site, HC-6), (53356002, 541950011, hcw_disposal_infectiouswaste, Open burning, HC-8), (53356002, 541950011, hcw_disposal_infectiouswaste, Open dumping without treatment option, HC-7), (53356002, 551560004, hch_handwashing_facility_toilet, No, no handwashing facilities near toilets (within 5 meters), HC-3), (53356002, 551560004, hch_handwashing_facility_toilet, No, there are handwashing facilities near the toilets but lacking soap and/or water, HC-2), (53356002, 551560004, hch_handwashing_facility_toilet, Yes, HC-1), (53356002, 551560005, hch_staff_trained, No, none have been trained, HC-3), (53356002, 551560005, hch_staff_trained, No, some but not all have been trained, HC-2), ...]\n",
       "\n",
       "[142 rows x 0 columns]"
      ]
     },
     "execution_count": 2,
     "metadata": {},
     "output_type": "execute_result"
    }
   ],
   "source": [
    "#data.groupby(['form_id','questionId','variable','text','code']).first()"
   ]
  }
 ],
 "metadata": {
  "kernelspec": {
   "display_name": "Python 3",
   "language": "python",
   "name": "python3"
  },
  "language_info": {
   "codemirror_mode": {
    "name": "ipython",
    "version": 3
   },
   "file_extension": ".py",
   "mimetype": "text/x-python",
   "name": "python",
   "nbconvert_exporter": "python",
   "pygments_lexer": "ipython3",
   "version": "3.8.5"
  },
  "toc": {
   "base_numbering": 1,
   "nav_menu": {},
   "number_sections": true,
   "sideBar": true,
   "skip_h1_title": false,
   "title_cell": "Table of Contents",
   "title_sidebar": "Contents",
   "toc_cell": false,
   "toc_position": {},
   "toc_section_display": true,
   "toc_window_display": false
  }
 },
 "nbformat": 4,
 "nbformat_minor": 4
}

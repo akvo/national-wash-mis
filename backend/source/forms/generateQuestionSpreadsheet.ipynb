{
 "cells": [
  {
   "cell_type": "code",
   "execution_count": 55,
   "metadata": {},
   "outputs": [],
   "source": [
    "import pandas as pd\n",
    "import csv\n",
    "import json\n",
    "import glob"
   ]
  },
  {
   "cell_type": "code",
   "execution_count": 56,
   "metadata": {},
   "outputs": [],
   "source": [
    "files=glob.glob(\"*prod.json\", recursive=False)\n",
    "for file in files:\n",
    "    with open(file) as json_file:\n",
    "        data = json.load(json_file)\n",
    "    questionGrps=data['question_groups']\n",
    "    data_file = open(data['form']+'.csv', 'w')\n",
    "    csv_writer = csv.writer(data_file)\n",
    "    count=0\n",
    "    for qGrp in questionGrps:\n",
    "        qGroupName=qGrp['question_group']\n",
    "        questions=qGrp['questions']\n",
    "        for q in questions:\n",
    "            if count == 0:\n",
    "                header = ['Question Group','id','question','Visual Friendly Name','order','required','type','Advanced Filter']\n",
    "                csv_writer.writerow(header)\n",
    "                count += 1\n",
    "            row=[]\n",
    "            row.append(qGroupName)\n",
    "            row.append(q['id'])\n",
    "            row.append(q['question'])\n",
    "            if 'name' in q.keys():\n",
    "                row.append(q['name'])\n",
    "            else:\n",
    "                row.append(\"\")\n",
    "            row.append(q['order'])\n",
    "            row.append(q['required'])\n",
    "            row.append(q['type'])\n",
    "            row.append(\"\")\n",
    "            csv_writer.writerow(row)\n",
    "    \n",
    "    data_file.close()"
   ]
  },
  {
   "cell_type": "code",
   "execution_count": 57,
   "metadata": {},
   "outputs": [
    {
     "data": {
      "text/plain": [
       "['563350033.prod.json', '519630048.prod.json', '533560002.prod.json']"
      ]
     },
     "execution_count": 57,
     "metadata": {},
     "output_type": "execute_result"
    }
   ],
   "source": [
    "\n",
    "\n",
    "files"
   ]
  }
 ],
 "metadata": {
  "kernelspec": {
   "display_name": "Python 3.8.5 ('rush-b')",
   "language": "python",
   "name": "python3"
  },
  "language_info": {
   "codemirror_mode": {
    "name": "ipython",
    "version": 3
   },
   "file_extension": ".py",
   "mimetype": "text/x-python",
   "name": "python",
   "nbconvert_exporter": "python",
   "pygments_lexer": "ipython3",
   "version": "3.8.5"
  },
  "orig_nbformat": 4,
  "vscode": {
   "interpreter": {
    "hash": "48e9261fc8a6083cfe4353d5fe8acb209db876eff6fa35e59f7495a80e8cb27f"
   }
  }
 },
 "nbformat": 4,
 "nbformat_minor": 2
}
